{
 "cells": [
  {
   "cell_type": "markdown",
   "metadata": {},
   "source": [
    "## Data Coalition of fixtures and league tables"
   ]
  },
  {
   "cell_type": "markdown",
   "metadata": {},
   "source": [
    "Within this workbook all the premier league fixtures from 1993 to 2018 and all the premier league tables during the period are combined into one usable csv.\n",
    "As well as this some useful columns have been added which may aid in finding a link between the league results. These are the difference in league position, the form over the past 2,3,4,5 games of the team whose result is being calculated.\n",
    "Other columns which could be added are the form of the opposition and the difference between the forms of the two sides.\n",
    "\n",
    "Throughout the workbook there are various comments and also the data is regularly displayed so as to show th echanges that have been made. I have highlighted these where useful."
   ]
  },
  {
   "cell_type": "code",
   "execution_count": 1,
   "metadata": {},
   "outputs": [],
   "source": [
    "#here I just import the basic packages that will be used in theis worksheet\n",
    "#Numpy and Pandas for there usual data analysis and datetime to help catorgarise the date string into a date easier.\n",
    "import numpy as np\n",
    "import pandas as pd\n",
    "from datetime import datetime\n",
    "import seaborn as sns"
   ]
  },
  {
   "cell_type": "markdown",
   "metadata": {},
   "source": [
    "# Premier league Games"
   ]
  },
  {
   "cell_type": "markdown",
   "metadata": {},
   "source": [
    "Start by importing the Premier league game data so we can see what we are working with, this is a basic set downloaded from Kaggle."
   ]
  },
  {
   "cell_type": "code",
   "execution_count": 2,
   "metadata": {},
   "outputs": [
    {
     "data": {
      "text/html": [
       "<div>\n",
       "<style scoped>\n",
       "    .dataframe tbody tr th:only-of-type {\n",
       "        vertical-align: middle;\n",
       "    }\n",
       "\n",
       "    .dataframe tbody tr th {\n",
       "        vertical-align: top;\n",
       "    }\n",
       "\n",
       "    .dataframe thead th {\n",
       "        text-align: right;\n",
       "    }\n",
       "</style>\n",
       "<table border=\"1\" class=\"dataframe\">\n",
       "  <thead>\n",
       "    <tr style=\"text-align: right;\">\n",
       "      <th></th>\n",
       "      <th>Div</th>\n",
       "      <th>Date</th>\n",
       "      <th>HomeTeam</th>\n",
       "      <th>AwayTeam</th>\n",
       "      <th>FTHG</th>\n",
       "      <th>FTAG</th>\n",
       "      <th>FTR</th>\n",
       "      <th>HTHG</th>\n",
       "      <th>HTAG</th>\n",
       "      <th>HTR</th>\n",
       "      <th>Season</th>\n",
       "    </tr>\n",
       "  </thead>\n",
       "  <tbody>\n",
       "    <tr>\n",
       "      <td>0</td>\n",
       "      <td>E0</td>\n",
       "      <td>14/08/93</td>\n",
       "      <td>Arsenal</td>\n",
       "      <td>Coventry</td>\n",
       "      <td>0</td>\n",
       "      <td>3</td>\n",
       "      <td>A</td>\n",
       "      <td>NaN</td>\n",
       "      <td>NaN</td>\n",
       "      <td>NaN</td>\n",
       "      <td>1993-94</td>\n",
       "    </tr>\n",
       "    <tr>\n",
       "      <td>1</td>\n",
       "      <td>E0</td>\n",
       "      <td>14/08/93</td>\n",
       "      <td>Aston Villa</td>\n",
       "      <td>QPR</td>\n",
       "      <td>4</td>\n",
       "      <td>1</td>\n",
       "      <td>H</td>\n",
       "      <td>NaN</td>\n",
       "      <td>NaN</td>\n",
       "      <td>NaN</td>\n",
       "      <td>1993-94</td>\n",
       "    </tr>\n",
       "    <tr>\n",
       "      <td>2</td>\n",
       "      <td>E0</td>\n",
       "      <td>14/08/93</td>\n",
       "      <td>Chelsea</td>\n",
       "      <td>Blackburn</td>\n",
       "      <td>1</td>\n",
       "      <td>2</td>\n",
       "      <td>A</td>\n",
       "      <td>NaN</td>\n",
       "      <td>NaN</td>\n",
       "      <td>NaN</td>\n",
       "      <td>1993-94</td>\n",
       "    </tr>\n",
       "    <tr>\n",
       "      <td>3</td>\n",
       "      <td>E0</td>\n",
       "      <td>14/08/93</td>\n",
       "      <td>Liverpool</td>\n",
       "      <td>Sheffield Weds</td>\n",
       "      <td>2</td>\n",
       "      <td>0</td>\n",
       "      <td>H</td>\n",
       "      <td>NaN</td>\n",
       "      <td>NaN</td>\n",
       "      <td>NaN</td>\n",
       "      <td>1993-94</td>\n",
       "    </tr>\n",
       "    <tr>\n",
       "      <td>4</td>\n",
       "      <td>E0</td>\n",
       "      <td>14/08/93</td>\n",
       "      <td>Man City</td>\n",
       "      <td>Leeds</td>\n",
       "      <td>1</td>\n",
       "      <td>1</td>\n",
       "      <td>D</td>\n",
       "      <td>NaN</td>\n",
       "      <td>NaN</td>\n",
       "      <td>NaN</td>\n",
       "      <td>1993-94</td>\n",
       "    </tr>\n",
       "    <tr>\n",
       "      <td>...</td>\n",
       "      <td>...</td>\n",
       "      <td>...</td>\n",
       "      <td>...</td>\n",
       "      <td>...</td>\n",
       "      <td>...</td>\n",
       "      <td>...</td>\n",
       "      <td>...</td>\n",
       "      <td>...</td>\n",
       "      <td>...</td>\n",
       "      <td>...</td>\n",
       "      <td>...</td>\n",
       "    </tr>\n",
       "    <tr>\n",
       "      <td>9659</td>\n",
       "      <td>E0</td>\n",
       "      <td>13/05/18</td>\n",
       "      <td>Newcastle</td>\n",
       "      <td>Chelsea</td>\n",
       "      <td>3</td>\n",
       "      <td>0</td>\n",
       "      <td>H</td>\n",
       "      <td>1.0</td>\n",
       "      <td>0.0</td>\n",
       "      <td>H</td>\n",
       "      <td>2017-18</td>\n",
       "    </tr>\n",
       "    <tr>\n",
       "      <td>9660</td>\n",
       "      <td>E0</td>\n",
       "      <td>13/05/18</td>\n",
       "      <td>Southampton</td>\n",
       "      <td>Man City</td>\n",
       "      <td>0</td>\n",
       "      <td>1</td>\n",
       "      <td>A</td>\n",
       "      <td>0.0</td>\n",
       "      <td>0.0</td>\n",
       "      <td>D</td>\n",
       "      <td>2017-18</td>\n",
       "    </tr>\n",
       "    <tr>\n",
       "      <td>9661</td>\n",
       "      <td>E0</td>\n",
       "      <td>13/05/18</td>\n",
       "      <td>Swansea</td>\n",
       "      <td>Stoke</td>\n",
       "      <td>1</td>\n",
       "      <td>2</td>\n",
       "      <td>A</td>\n",
       "      <td>1.0</td>\n",
       "      <td>2.0</td>\n",
       "      <td>A</td>\n",
       "      <td>2017-18</td>\n",
       "    </tr>\n",
       "    <tr>\n",
       "      <td>9662</td>\n",
       "      <td>E0</td>\n",
       "      <td>13/05/18</td>\n",
       "      <td>Tottenham</td>\n",
       "      <td>Leicester</td>\n",
       "      <td>5</td>\n",
       "      <td>4</td>\n",
       "      <td>H</td>\n",
       "      <td>1.0</td>\n",
       "      <td>2.0</td>\n",
       "      <td>A</td>\n",
       "      <td>2017-18</td>\n",
       "    </tr>\n",
       "    <tr>\n",
       "      <td>9663</td>\n",
       "      <td>E0</td>\n",
       "      <td>13/05/18</td>\n",
       "      <td>West Ham</td>\n",
       "      <td>Everton</td>\n",
       "      <td>3</td>\n",
       "      <td>1</td>\n",
       "      <td>H</td>\n",
       "      <td>1.0</td>\n",
       "      <td>0.0</td>\n",
       "      <td>H</td>\n",
       "      <td>2017-18</td>\n",
       "    </tr>\n",
       "  </tbody>\n",
       "</table>\n",
       "<p>9664 rows × 11 columns</p>\n",
       "</div>"
      ],
      "text/plain": [
       "     Div      Date     HomeTeam        AwayTeam  FTHG  FTAG FTR  HTHG  HTAG  \\\n",
       "0     E0  14/08/93      Arsenal        Coventry     0     3   A   NaN   NaN   \n",
       "1     E0  14/08/93  Aston Villa             QPR     4     1   H   NaN   NaN   \n",
       "2     E0  14/08/93      Chelsea       Blackburn     1     2   A   NaN   NaN   \n",
       "3     E0  14/08/93    Liverpool  Sheffield Weds     2     0   H   NaN   NaN   \n",
       "4     E0  14/08/93     Man City           Leeds     1     1   D   NaN   NaN   \n",
       "...   ..       ...          ...             ...   ...   ...  ..   ...   ...   \n",
       "9659  E0  13/05/18    Newcastle         Chelsea     3     0   H   1.0   0.0   \n",
       "9660  E0  13/05/18  Southampton        Man City     0     1   A   0.0   0.0   \n",
       "9661  E0  13/05/18      Swansea           Stoke     1     2   A   1.0   2.0   \n",
       "9662  E0  13/05/18    Tottenham       Leicester     5     4   H   1.0   2.0   \n",
       "9663  E0  13/05/18     West Ham         Everton     3     1   H   1.0   0.0   \n",
       "\n",
       "      HTR   Season  \n",
       "0     NaN  1993-94  \n",
       "1     NaN  1993-94  \n",
       "2     NaN  1993-94  \n",
       "3     NaN  1993-94  \n",
       "4     NaN  1993-94  \n",
       "...   ...      ...  \n",
       "9659    H  2017-18  \n",
       "9660    D  2017-18  \n",
       "9661    A  2017-18  \n",
       "9662    A  2017-18  \n",
       "9663    H  2017-18  \n",
       "\n",
       "[9664 rows x 11 columns]"
      ]
     },
     "execution_count": 2,
     "metadata": {},
     "output_type": "execute_result"
    }
   ],
   "source": [
    "LeagueGames = pd.read_csv(\"EPL_Set.csv\")\n",
    "#LeagueGames is a DataFrame from pandas.\n",
    "LeagueGames"
   ]
  },
  {
   "cell_type": "markdown",
   "metadata": {},
   "source": [
    "Now we need to remove any non useful data, is is unlikely half time data will be relevant in biulding our model, so this will be removed. \n",
    "\n",
    "The division also shouldn't be useful as all games are expected to be in the Premier league, but this will be checked before deleting. It is checked below to ensure there is only one value which will be the premier league if true."
   ]
  },
  {
   "cell_type": "code",
   "execution_count": 3,
   "metadata": {},
   "outputs": [
    {
     "data": {
      "text/plain": [
       "array(['E0'], dtype=object)"
      ]
     },
     "execution_count": 3,
     "metadata": {},
     "output_type": "execute_result"
    }
   ],
   "source": [
    "LeagueGames['Div'].unique()"
   ]
  },
  {
   "cell_type": "markdown",
   "metadata": {},
   "source": [
    "Hence from the above it can be seen that only one value exists in the Div column and therefore it can be removed.\n",
    "\n",
    "The goals will also be removed as it seems unlikely to be useful."
   ]
  },
  {
   "cell_type": "code",
   "execution_count": 4,
   "metadata": {},
   "outputs": [
    {
     "data": {
      "text/html": [
       "<div>\n",
       "<style scoped>\n",
       "    .dataframe tbody tr th:only-of-type {\n",
       "        vertical-align: middle;\n",
       "    }\n",
       "\n",
       "    .dataframe tbody tr th {\n",
       "        vertical-align: top;\n",
       "    }\n",
       "\n",
       "    .dataframe thead th {\n",
       "        text-align: right;\n",
       "    }\n",
       "</style>\n",
       "<table border=\"1\" class=\"dataframe\">\n",
       "  <thead>\n",
       "    <tr style=\"text-align: right;\">\n",
       "      <th></th>\n",
       "      <th>Date</th>\n",
       "      <th>HomeTeam</th>\n",
       "      <th>AwayTeam</th>\n",
       "      <th>FTR</th>\n",
       "      <th>Season</th>\n",
       "    </tr>\n",
       "  </thead>\n",
       "  <tbody>\n",
       "    <tr>\n",
       "      <td>0</td>\n",
       "      <td>14/08/93</td>\n",
       "      <td>Arsenal</td>\n",
       "      <td>Coventry</td>\n",
       "      <td>A</td>\n",
       "      <td>1993-94</td>\n",
       "    </tr>\n",
       "    <tr>\n",
       "      <td>1</td>\n",
       "      <td>14/08/93</td>\n",
       "      <td>Aston Villa</td>\n",
       "      <td>QPR</td>\n",
       "      <td>H</td>\n",
       "      <td>1993-94</td>\n",
       "    </tr>\n",
       "    <tr>\n",
       "      <td>2</td>\n",
       "      <td>14/08/93</td>\n",
       "      <td>Chelsea</td>\n",
       "      <td>Blackburn</td>\n",
       "      <td>A</td>\n",
       "      <td>1993-94</td>\n",
       "    </tr>\n",
       "    <tr>\n",
       "      <td>3</td>\n",
       "      <td>14/08/93</td>\n",
       "      <td>Liverpool</td>\n",
       "      <td>Sheffield Weds</td>\n",
       "      <td>H</td>\n",
       "      <td>1993-94</td>\n",
       "    </tr>\n",
       "    <tr>\n",
       "      <td>4</td>\n",
       "      <td>14/08/93</td>\n",
       "      <td>Man City</td>\n",
       "      <td>Leeds</td>\n",
       "      <td>D</td>\n",
       "      <td>1993-94</td>\n",
       "    </tr>\n",
       "  </tbody>\n",
       "</table>\n",
       "</div>"
      ],
      "text/plain": [
       "       Date     HomeTeam        AwayTeam FTR   Season\n",
       "0  14/08/93      Arsenal        Coventry   A  1993-94\n",
       "1  14/08/93  Aston Villa             QPR   H  1993-94\n",
       "2  14/08/93      Chelsea       Blackburn   A  1993-94\n",
       "3  14/08/93    Liverpool  Sheffield Weds   H  1993-94\n",
       "4  14/08/93     Man City           Leeds   D  1993-94"
      ]
     },
     "execution_count": 4,
     "metadata": {},
     "output_type": "execute_result"
    }
   ],
   "source": [
    "LeagueGames = LeagueGames.drop(['Div','FTHG','FTAG','HTHG','HTAG','HTR'],axis=1)\n",
    "LeagueGames.head()"
   ]
  },
  {
   "cell_type": "markdown",
   "metadata": {},
   "source": [
    "The \"Season Column will be converted into something more useable such as seasonStart and seasonEnd.\n",
    "This will allow an easier comparison to the final league table from the season before.\n"
   ]
  },
  {
   "cell_type": "code",
   "execution_count": 5,
   "metadata": {},
   "outputs": [
    {
     "data": {
      "text/html": [
       "<div>\n",
       "<style scoped>\n",
       "    .dataframe tbody tr th:only-of-type {\n",
       "        vertical-align: middle;\n",
       "    }\n",
       "\n",
       "    .dataframe tbody tr th {\n",
       "        vertical-align: top;\n",
       "    }\n",
       "\n",
       "    .dataframe thead th {\n",
       "        text-align: right;\n",
       "    }\n",
       "</style>\n",
       "<table border=\"1\" class=\"dataframe\">\n",
       "  <thead>\n",
       "    <tr style=\"text-align: right;\">\n",
       "      <th></th>\n",
       "      <th>Date</th>\n",
       "      <th>HomeTeam</th>\n",
       "      <th>AwayTeam</th>\n",
       "      <th>FTR</th>\n",
       "      <th>Season</th>\n",
       "      <th>seasonStart</th>\n",
       "      <th>seasonEnd</th>\n",
       "    </tr>\n",
       "  </thead>\n",
       "  <tbody>\n",
       "    <tr>\n",
       "      <td>9663</td>\n",
       "      <td>13/05/18</td>\n",
       "      <td>West Ham</td>\n",
       "      <td>Everton</td>\n",
       "      <td>H</td>\n",
       "      <td>2017-18</td>\n",
       "      <td>2017</td>\n",
       "      <td>2018</td>\n",
       "    </tr>\n",
       "  </tbody>\n",
       "</table>\n",
       "</div>"
      ],
      "text/plain": [
       "          Date  HomeTeam AwayTeam FTR   Season  seasonStart  seasonEnd\n",
       "9663  13/05/18  West Ham  Everton   H  2017-18         2017       2018"
      ]
     },
     "execution_count": 5,
     "metadata": {},
     "output_type": "execute_result"
    }
   ],
   "source": [
    "LeagueGames['seasonStart'] = LeagueGames['Season'].apply(lambda title: title.split('-')[0])\n",
    "LeagueGames['seasonEnd'] = LeagueGames['Season'].apply(lambda title: title.split('-')[1])\n",
    "LeagueGames['seasonEnd'] = LeagueGames['seasonEnd'].astype(int)\n",
    "LeagueGames['seasonStart'] = LeagueGames['seasonStart'].astype(int)\n",
    "LeagueGames['seasonEnd'] = np.where(LeagueGames['seasonEnd']<=20,2000+LeagueGames['seasonEnd'],\n",
    "                                    1900+LeagueGames['seasonEnd'])\n",
    "\n",
    "# A simple Lambda expression was used to split the season in 2 and then the first and \n",
    "# second part were taken for the start and end respectively\n",
    "# These were then converted from strings to int types, to allow easier subtraction and sorting later.\n",
    "\n",
    "LeagueGames.tail(1)"
   ]
  },
  {
   "cell_type": "markdown",
   "metadata": {},
   "source": [
    "Now because all results need to be considered, the table will be duplicated and every game duplicated, the new columns will have team, home/away, opponent, result, season. The reason for the duplication is that currently every team appears once for each fixture but it would be easier to double each fixture. Then each team appears twice for the same fixture, once as the team whose result is being modelled and once as the opposition.\n",
    "\n",
    "This way it will be easier to analyse the data and the teams league position as the team and the opposition"
   ]
  },
  {
   "cell_type": "code",
   "execution_count": 6,
   "metadata": {},
   "outputs": [
    {
     "data": {
      "text/html": [
       "<div>\n",
       "<style scoped>\n",
       "    .dataframe tbody tr th:only-of-type {\n",
       "        vertical-align: middle;\n",
       "    }\n",
       "\n",
       "    .dataframe tbody tr th {\n",
       "        vertical-align: top;\n",
       "    }\n",
       "\n",
       "    .dataframe thead th {\n",
       "        text-align: right;\n",
       "    }\n",
       "</style>\n",
       "<table border=\"1\" class=\"dataframe\">\n",
       "  <thead>\n",
       "    <tr style=\"text-align: right;\">\n",
       "      <th></th>\n",
       "      <th>Date</th>\n",
       "      <th>FTR</th>\n",
       "      <th>Season</th>\n",
       "      <th>seasonStart</th>\n",
       "      <th>seasonEnd</th>\n",
       "      <th>team</th>\n",
       "      <th>opposition</th>\n",
       "      <th>result</th>\n",
       "      <th>ho/Aw</th>\n",
       "    </tr>\n",
       "  </thead>\n",
       "  <tbody>\n",
       "    <tr>\n",
       "      <td>9659</td>\n",
       "      <td>13/05/18</td>\n",
       "      <td>H</td>\n",
       "      <td>2017-18</td>\n",
       "      <td>2017</td>\n",
       "      <td>2018</td>\n",
       "      <td>Newcastle</td>\n",
       "      <td>Chelsea</td>\n",
       "      <td>Win</td>\n",
       "      <td>Home</td>\n",
       "    </tr>\n",
       "    <tr>\n",
       "      <td>9660</td>\n",
       "      <td>13/05/18</td>\n",
       "      <td>A</td>\n",
       "      <td>2017-18</td>\n",
       "      <td>2017</td>\n",
       "      <td>2018</td>\n",
       "      <td>Southampton</td>\n",
       "      <td>Man City</td>\n",
       "      <td>Loss</td>\n",
       "      <td>Home</td>\n",
       "    </tr>\n",
       "    <tr>\n",
       "      <td>9661</td>\n",
       "      <td>13/05/18</td>\n",
       "      <td>A</td>\n",
       "      <td>2017-18</td>\n",
       "      <td>2017</td>\n",
       "      <td>2018</td>\n",
       "      <td>Swansea</td>\n",
       "      <td>Stoke</td>\n",
       "      <td>Loss</td>\n",
       "      <td>Home</td>\n",
       "    </tr>\n",
       "    <tr>\n",
       "      <td>9662</td>\n",
       "      <td>13/05/18</td>\n",
       "      <td>H</td>\n",
       "      <td>2017-18</td>\n",
       "      <td>2017</td>\n",
       "      <td>2018</td>\n",
       "      <td>Tottenham</td>\n",
       "      <td>Leicester</td>\n",
       "      <td>Win</td>\n",
       "      <td>Home</td>\n",
       "    </tr>\n",
       "    <tr>\n",
       "      <td>9663</td>\n",
       "      <td>13/05/18</td>\n",
       "      <td>H</td>\n",
       "      <td>2017-18</td>\n",
       "      <td>2017</td>\n",
       "      <td>2018</td>\n",
       "      <td>West Ham</td>\n",
       "      <td>Everton</td>\n",
       "      <td>Win</td>\n",
       "      <td>Home</td>\n",
       "    </tr>\n",
       "  </tbody>\n",
       "</table>\n",
       "</div>"
      ],
      "text/plain": [
       "          Date FTR   Season  seasonStart  seasonEnd         team opposition  \\\n",
       "9659  13/05/18   H  2017-18         2017       2018    Newcastle    Chelsea   \n",
       "9660  13/05/18   A  2017-18         2017       2018  Southampton   Man City   \n",
       "9661  13/05/18   A  2017-18         2017       2018      Swansea      Stoke   \n",
       "9662  13/05/18   H  2017-18         2017       2018    Tottenham  Leicester   \n",
       "9663  13/05/18   H  2017-18         2017       2018     West Ham    Everton   \n",
       "\n",
       "     result ho/Aw  \n",
       "9659    Win  Home  \n",
       "9660   Loss  Home  \n",
       "9661   Loss  Home  \n",
       "9662    Win  Home  \n",
       "9663    Win  Home  "
      ]
     },
     "execution_count": 6,
     "metadata": {},
     "output_type": "execute_result"
    }
   ],
   "source": [
    "LeagueGamesHome = LeagueGames\n",
    "LeagueGamesHome['team'] = LeagueGamesHome['HomeTeam']\n",
    "LeagueGamesHome['opposition'] = LeagueGamesHome['AwayTeam']\n",
    "LeagueGamesHome = LeagueGamesHome.drop(['HomeTeam','AwayTeam'],axis=1)\n",
    "LeagueGamesHome['result'] = np.where(LeagueGamesHome['FTR']=='H', 'Win',np.where(LeagueGamesHome['FTR']=='A','Loss','Draw'))\n",
    "LeagueGamesHome['ho/Aw'] = 'Home'\n",
    "LeagueGamesHome.tail()"
   ]
  },
  {
   "cell_type": "code",
   "execution_count": 7,
   "metadata": {},
   "outputs": [
    {
     "data": {
      "text/html": [
       "<div>\n",
       "<style scoped>\n",
       "    .dataframe tbody tr th:only-of-type {\n",
       "        vertical-align: middle;\n",
       "    }\n",
       "\n",
       "    .dataframe tbody tr th {\n",
       "        vertical-align: top;\n",
       "    }\n",
       "\n",
       "    .dataframe thead th {\n",
       "        text-align: right;\n",
       "    }\n",
       "</style>\n",
       "<table border=\"1\" class=\"dataframe\">\n",
       "  <thead>\n",
       "    <tr style=\"text-align: right;\">\n",
       "      <th></th>\n",
       "      <th>Date</th>\n",
       "      <th>FTR</th>\n",
       "      <th>Season</th>\n",
       "      <th>seasonStart</th>\n",
       "      <th>seasonEnd</th>\n",
       "      <th>team</th>\n",
       "      <th>opposition</th>\n",
       "      <th>result</th>\n",
       "      <th>ho/Aw</th>\n",
       "    </tr>\n",
       "  </thead>\n",
       "  <tbody>\n",
       "    <tr>\n",
       "      <td>0</td>\n",
       "      <td>14/08/93</td>\n",
       "      <td>A</td>\n",
       "      <td>1993-94</td>\n",
       "      <td>1993</td>\n",
       "      <td>1994</td>\n",
       "      <td>Coventry</td>\n",
       "      <td>Arsenal</td>\n",
       "      <td>Win</td>\n",
       "      <td>Away</td>\n",
       "    </tr>\n",
       "    <tr>\n",
       "      <td>1</td>\n",
       "      <td>14/08/93</td>\n",
       "      <td>H</td>\n",
       "      <td>1993-94</td>\n",
       "      <td>1993</td>\n",
       "      <td>1994</td>\n",
       "      <td>QPR</td>\n",
       "      <td>Aston Villa</td>\n",
       "      <td>Loss</td>\n",
       "      <td>Away</td>\n",
       "    </tr>\n",
       "    <tr>\n",
       "      <td>2</td>\n",
       "      <td>14/08/93</td>\n",
       "      <td>A</td>\n",
       "      <td>1993-94</td>\n",
       "      <td>1993</td>\n",
       "      <td>1994</td>\n",
       "      <td>Blackburn</td>\n",
       "      <td>Chelsea</td>\n",
       "      <td>Win</td>\n",
       "      <td>Away</td>\n",
       "    </tr>\n",
       "    <tr>\n",
       "      <td>3</td>\n",
       "      <td>14/08/93</td>\n",
       "      <td>H</td>\n",
       "      <td>1993-94</td>\n",
       "      <td>1993</td>\n",
       "      <td>1994</td>\n",
       "      <td>Sheffield Weds</td>\n",
       "      <td>Liverpool</td>\n",
       "      <td>Loss</td>\n",
       "      <td>Away</td>\n",
       "    </tr>\n",
       "    <tr>\n",
       "      <td>4</td>\n",
       "      <td>14/08/93</td>\n",
       "      <td>D</td>\n",
       "      <td>1993-94</td>\n",
       "      <td>1993</td>\n",
       "      <td>1994</td>\n",
       "      <td>Leeds</td>\n",
       "      <td>Man City</td>\n",
       "      <td>Draw</td>\n",
       "      <td>Away</td>\n",
       "    </tr>\n",
       "  </tbody>\n",
       "</table>\n",
       "</div>"
      ],
      "text/plain": [
       "       Date FTR   Season  seasonStart  seasonEnd            team   opposition  \\\n",
       "0  14/08/93   A  1993-94         1993       1994        Coventry      Arsenal   \n",
       "1  14/08/93   H  1993-94         1993       1994             QPR  Aston Villa   \n",
       "2  14/08/93   A  1993-94         1993       1994       Blackburn      Chelsea   \n",
       "3  14/08/93   H  1993-94         1993       1994  Sheffield Weds    Liverpool   \n",
       "4  14/08/93   D  1993-94         1993       1994           Leeds     Man City   \n",
       "\n",
       "  result ho/Aw  \n",
       "0    Win  Away  \n",
       "1   Loss  Away  \n",
       "2    Win  Away  \n",
       "3   Loss  Away  \n",
       "4   Draw  Away  "
      ]
     },
     "execution_count": 7,
     "metadata": {},
     "output_type": "execute_result"
    }
   ],
   "source": [
    "LeagueGamesAway = LeagueGames\n",
    "LeagueGamesAway['team'] = LeagueGamesAway['AwayTeam']\n",
    "LeagueGamesAway['opposition'] = LeagueGamesAway['HomeTeam']\n",
    "LeagueGamesAway = LeagueGamesAway.drop(['HomeTeam','AwayTeam'],axis=1)\n",
    "LeagueGamesAway['result'] = np.where(LeagueGamesAway['FTR']=='H', 'Loss',np.where(LeagueGamesAway['FTR']=='A','Win','Draw'))\n",
    "LeagueGamesAway['ho/Aw'] = 'Away'\n",
    "LeagueGamesAway.head()"
   ]
  },
  {
   "cell_type": "code",
   "execution_count": 8,
   "metadata": {},
   "outputs": [
    {
     "name": "stdout",
     "output_type": "stream",
     "text": [
      "<class 'pandas.core.frame.DataFrame'>\n",
      "Int64Index: 19328 entries, 0 to 9663\n",
      "Data columns (total 9 columns):\n",
      "Date           19328 non-null object\n",
      "FTR            19328 non-null object\n",
      "Season         19328 non-null object\n",
      "seasonStart    19328 non-null int32\n",
      "seasonEnd      19328 non-null int32\n",
      "team           19328 non-null object\n",
      "opposition     19328 non-null object\n",
      "result         19328 non-null object\n",
      "ho/Aw          19328 non-null object\n",
      "dtypes: int32(2), object(7)\n",
      "memory usage: 1.3+ MB\n"
     ]
    }
   ],
   "source": [
    "LeagueGamesCombo = pd.concat([LeagueGamesHome,LeagueGamesAway])\n",
    "\n",
    "#This just simply combines the two created dataframes which were duplcuates reversed into one listing.\n",
    "#This listing has the columns identified below\n",
    "\n",
    "LeagueGamesCombo.info()"
   ]
  },
  {
   "cell_type": "code",
   "execution_count": 9,
   "metadata": {},
   "outputs": [
    {
     "data": {
      "text/plain": [
       "9659    13/05/18\n",
       "9660    13/05/18\n",
       "9661    13/05/18\n",
       "9662    13/05/18\n",
       "9663    13/05/18\n",
       "Name: Date, dtype: object"
      ]
     },
     "execution_count": 9,
     "metadata": {},
     "output_type": "execute_result"
    }
   ],
   "source": [
    "#Now attention is turned to the date column which as can be seen from looking at the type below is currently just an object.\n",
    "#It's easier to work with a datetime object so it will be converted.\n",
    "\n",
    "LeagueGamesCombo['Date'].tail()"
   ]
  },
  {
   "cell_type": "code",
   "execution_count": 10,
   "metadata": {},
   "outputs": [
    {
     "name": "stdout",
     "output_type": "stream",
     "text": [
      "<class 'pandas.core.frame.DataFrame'>\n",
      "Int64Index: 19328 entries, 0 to 9663\n",
      "Data columns (total 8 columns):\n",
      "Season         19328 non-null object\n",
      "seasonStart    19328 non-null int32\n",
      "seasonEnd      19328 non-null int32\n",
      "team           19328 non-null object\n",
      "opposition     19328 non-null object\n",
      "result         19328 non-null object\n",
      "ho/Aw          19328 non-null object\n",
      "date           19328 non-null datetime64[ns]\n",
      "dtypes: datetime64[ns](1), int32(2), object(5)\n",
      "memory usage: 1.2+ MB\n"
     ]
    }
   ],
   "source": [
    "LeagueGamesCombo['date'] =  pd.to_datetime(LeagueGamesCombo['Date'],dayfirst=True)\n",
    "LeagueGamesCombo = LeagueGamesCombo.drop(['Date','FTR'],axis=1)\n",
    "\n",
    "# Then the old date column and the FTR column are removed as they are obsolete\n",
    "\n",
    "LeagueGamesCombo.info()"
   ]
  },
  {
   "cell_type": "code",
   "execution_count": 11,
   "metadata": {},
   "outputs": [
    {
     "name": "stdout",
     "output_type": "stream",
     "text": [
      "<class 'pandas.core.frame.DataFrame'>\n",
      "Int64Index: 19328 entries, 0 to 7383\n",
      "Data columns (total 8 columns):\n",
      "Season         19328 non-null object\n",
      "seasonStart    19328 non-null int32\n",
      "seasonEnd      19328 non-null int32\n",
      "team           19328 non-null object\n",
      "opposition     19328 non-null object\n",
      "result         19328 non-null object\n",
      "ho/Aw          19328 non-null object\n",
      "date           19328 non-null datetime64[ns]\n",
      "dtypes: datetime64[ns](1), int32(2), object(5)\n",
      "memory usage: 1.2+ MB\n"
     ]
    }
   ],
   "source": [
    "LeagueGamesCombo.columns=LeagueGamesCombo.columns.str.strip()\n",
    "LeagueGamesCombo = LeagueGamesCombo.sort_values(['team','date'])\n",
    "LeagueGamesCombo.info()"
   ]
  },
  {
   "cell_type": "markdown",
   "metadata": {},
   "source": [
    "Next it is important to establish the form of each team. For the purposes of this workbook form will consist of the number of point gained in the previous 2, 3, 4 and 5 games. If on an initial linear regression use it is found that one of these metrics is not useful it will be discarded.\n",
    "\n",
    "Currently this is only for the team being focused on and also runs accross seasons which may or may not be helpful.\n",
    "\n",
    "First we must establish the points gained by the 'Team' in each of their games which should be straightforward, a fixture number is also added so help keep track of each teams fixtures each season."
   ]
  },
  {
   "cell_type": "code",
   "execution_count": 12,
   "metadata": {},
   "outputs": [],
   "source": [
    "LeagueGamesCombo['teamPoints'] = np.where(LeagueGamesCombo['result']=='Win',3,np.where(LeagueGamesCombo['result']=='Draw',1,0))\n",
    "LeagueGamesCombo = LeagueGamesCombo.reset_index()\n",
    "LeagueGamesCombo = LeagueGamesCombo.drop('index',axis=1)"
   ]
  },
  {
   "cell_type": "code",
   "execution_count": 13,
   "metadata": {},
   "outputs": [
    {
     "data": {
      "text/html": [
       "<div>\n",
       "<style scoped>\n",
       "    .dataframe tbody tr th:only-of-type {\n",
       "        vertical-align: middle;\n",
       "    }\n",
       "\n",
       "    .dataframe tbody tr th {\n",
       "        vertical-align: top;\n",
       "    }\n",
       "\n",
       "    .dataframe thead th {\n",
       "        text-align: right;\n",
       "    }\n",
       "</style>\n",
       "<table border=\"1\" class=\"dataframe\">\n",
       "  <thead>\n",
       "    <tr style=\"text-align: right;\">\n",
       "      <th></th>\n",
       "      <th>index</th>\n",
       "      <th>Season</th>\n",
       "      <th>seasonStart</th>\n",
       "      <th>seasonEnd</th>\n",
       "      <th>team</th>\n",
       "      <th>opposition</th>\n",
       "      <th>result</th>\n",
       "      <th>ho/Aw</th>\n",
       "      <th>date</th>\n",
       "      <th>teamPoints</th>\n",
       "    </tr>\n",
       "  </thead>\n",
       "  <tbody>\n",
       "    <tr>\n",
       "      <td>0</td>\n",
       "      <td>0</td>\n",
       "      <td>1993-94</td>\n",
       "      <td>1993</td>\n",
       "      <td>1994</td>\n",
       "      <td>Arsenal</td>\n",
       "      <td>Coventry</td>\n",
       "      <td>Loss</td>\n",
       "      <td>Home</td>\n",
       "      <td>1993-08-14</td>\n",
       "      <td>0</td>\n",
       "    </tr>\n",
       "    <tr>\n",
       "      <td>1</td>\n",
       "      <td>1</td>\n",
       "      <td>1993-94</td>\n",
       "      <td>1993</td>\n",
       "      <td>1994</td>\n",
       "      <td>Arsenal</td>\n",
       "      <td>Tottenham</td>\n",
       "      <td>Win</td>\n",
       "      <td>Away</td>\n",
       "      <td>1993-08-16</td>\n",
       "      <td>3</td>\n",
       "    </tr>\n",
       "    <tr>\n",
       "      <td>2</td>\n",
       "      <td>2</td>\n",
       "      <td>1993-94</td>\n",
       "      <td>1993</td>\n",
       "      <td>1994</td>\n",
       "      <td>Arsenal</td>\n",
       "      <td>Sheffield Weds</td>\n",
       "      <td>Win</td>\n",
       "      <td>Away</td>\n",
       "      <td>1993-08-21</td>\n",
       "      <td>3</td>\n",
       "    </tr>\n",
       "    <tr>\n",
       "      <td>3</td>\n",
       "      <td>3</td>\n",
       "      <td>1993-94</td>\n",
       "      <td>1993</td>\n",
       "      <td>1994</td>\n",
       "      <td>Arsenal</td>\n",
       "      <td>Leeds</td>\n",
       "      <td>Win</td>\n",
       "      <td>Home</td>\n",
       "      <td>1993-08-24</td>\n",
       "      <td>3</td>\n",
       "    </tr>\n",
       "    <tr>\n",
       "      <td>4</td>\n",
       "      <td>4</td>\n",
       "      <td>1993-94</td>\n",
       "      <td>1993</td>\n",
       "      <td>1994</td>\n",
       "      <td>Arsenal</td>\n",
       "      <td>Everton</td>\n",
       "      <td>Win</td>\n",
       "      <td>Home</td>\n",
       "      <td>1993-08-28</td>\n",
       "      <td>3</td>\n",
       "    </tr>\n",
       "  </tbody>\n",
       "</table>\n",
       "</div>"
      ],
      "text/plain": [
       "   index   Season  seasonStart  seasonEnd     team      opposition result  \\\n",
       "0      0  1993-94         1993       1994  Arsenal        Coventry   Loss   \n",
       "1      1  1993-94         1993       1994  Arsenal       Tottenham    Win   \n",
       "2      2  1993-94         1993       1994  Arsenal  Sheffield Weds    Win   \n",
       "3      3  1993-94         1993       1994  Arsenal           Leeds    Win   \n",
       "4      4  1993-94         1993       1994  Arsenal         Everton    Win   \n",
       "\n",
       "  ho/Aw       date  teamPoints  \n",
       "0  Home 1993-08-14           0  \n",
       "1  Away 1993-08-16           3  \n",
       "2  Away 1993-08-21           3  \n",
       "3  Home 1993-08-24           3  \n",
       "4  Home 1993-08-28           3  "
      ]
     },
     "execution_count": 13,
     "metadata": {},
     "output_type": "execute_result"
    }
   ],
   "source": [
    "LeagueGamesCombo = LeagueGamesCombo.reset_index()\n",
    "LeagueGamesCombo.head()"
   ]
  },
  {
   "cell_type": "code",
   "execution_count": 14,
   "metadata": {},
   "outputs": [
    {
     "data": {
      "text/html": [
       "<div>\n",
       "<style scoped>\n",
       "    .dataframe tbody tr th:only-of-type {\n",
       "        vertical-align: middle;\n",
       "    }\n",
       "\n",
       "    .dataframe tbody tr th {\n",
       "        vertical-align: top;\n",
       "    }\n",
       "\n",
       "    .dataframe thead th {\n",
       "        text-align: right;\n",
       "    }\n",
       "</style>\n",
       "<table border=\"1\" class=\"dataframe\">\n",
       "  <thead>\n",
       "    <tr style=\"text-align: right;\">\n",
       "      <th></th>\n",
       "      <th>index</th>\n",
       "      <th>Season</th>\n",
       "      <th>seasonStart</th>\n",
       "      <th>seasonEnd</th>\n",
       "      <th>team</th>\n",
       "      <th>opposition</th>\n",
       "      <th>result</th>\n",
       "      <th>ho/Aw</th>\n",
       "      <th>date</th>\n",
       "      <th>teamPoints</th>\n",
       "    </tr>\n",
       "  </thead>\n",
       "  <tbody>\n",
       "    <tr>\n",
       "      <td>0</td>\n",
       "      <td>0</td>\n",
       "      <td>1993-94</td>\n",
       "      <td>1993</td>\n",
       "      <td>1994</td>\n",
       "      <td>Arsenal</td>\n",
       "      <td>Coventry</td>\n",
       "      <td>Loss</td>\n",
       "      <td>Home</td>\n",
       "      <td>1993-08-14</td>\n",
       "      <td>0</td>\n",
       "    </tr>\n",
       "    <tr>\n",
       "      <td>1</td>\n",
       "      <td>1</td>\n",
       "      <td>1993-94</td>\n",
       "      <td>1993</td>\n",
       "      <td>1994</td>\n",
       "      <td>Arsenal</td>\n",
       "      <td>Tottenham</td>\n",
       "      <td>Win</td>\n",
       "      <td>Away</td>\n",
       "      <td>1993-08-16</td>\n",
       "      <td>3</td>\n",
       "    </tr>\n",
       "    <tr>\n",
       "      <td>2</td>\n",
       "      <td>2</td>\n",
       "      <td>1993-94</td>\n",
       "      <td>1993</td>\n",
       "      <td>1994</td>\n",
       "      <td>Arsenal</td>\n",
       "      <td>Sheffield Weds</td>\n",
       "      <td>Win</td>\n",
       "      <td>Away</td>\n",
       "      <td>1993-08-21</td>\n",
       "      <td>3</td>\n",
       "    </tr>\n",
       "    <tr>\n",
       "      <td>3</td>\n",
       "      <td>3</td>\n",
       "      <td>1993-94</td>\n",
       "      <td>1993</td>\n",
       "      <td>1994</td>\n",
       "      <td>Arsenal</td>\n",
       "      <td>Leeds</td>\n",
       "      <td>Win</td>\n",
       "      <td>Home</td>\n",
       "      <td>1993-08-24</td>\n",
       "      <td>3</td>\n",
       "    </tr>\n",
       "    <tr>\n",
       "      <td>4</td>\n",
       "      <td>4</td>\n",
       "      <td>1993-94</td>\n",
       "      <td>1993</td>\n",
       "      <td>1994</td>\n",
       "      <td>Arsenal</td>\n",
       "      <td>Everton</td>\n",
       "      <td>Win</td>\n",
       "      <td>Home</td>\n",
       "      <td>1993-08-28</td>\n",
       "      <td>3</td>\n",
       "    </tr>\n",
       "    <tr>\n",
       "      <td>...</td>\n",
       "      <td>...</td>\n",
       "      <td>...</td>\n",
       "      <td>...</td>\n",
       "      <td>...</td>\n",
       "      <td>...</td>\n",
       "      <td>...</td>\n",
       "      <td>...</td>\n",
       "      <td>...</td>\n",
       "      <td>...</td>\n",
       "      <td>...</td>\n",
       "    </tr>\n",
       "    <tr>\n",
       "      <td>19323</td>\n",
       "      <td>19323</td>\n",
       "      <td>2011-12</td>\n",
       "      <td>2011</td>\n",
       "      <td>2012</td>\n",
       "      <td>Wolves</td>\n",
       "      <td>Sunderland</td>\n",
       "      <td>Draw</td>\n",
       "      <td>Away</td>\n",
       "      <td>2012-04-14</td>\n",
       "      <td>1</td>\n",
       "    </tr>\n",
       "    <tr>\n",
       "      <td>19324</td>\n",
       "      <td>19324</td>\n",
       "      <td>2011-12</td>\n",
       "      <td>2011</td>\n",
       "      <td>2012</td>\n",
       "      <td>Wolves</td>\n",
       "      <td>Man City</td>\n",
       "      <td>Loss</td>\n",
       "      <td>Home</td>\n",
       "      <td>2012-04-22</td>\n",
       "      <td>0</td>\n",
       "    </tr>\n",
       "    <tr>\n",
       "      <td>19325</td>\n",
       "      <td>19325</td>\n",
       "      <td>2011-12</td>\n",
       "      <td>2011</td>\n",
       "      <td>2012</td>\n",
       "      <td>Wolves</td>\n",
       "      <td>Swansea</td>\n",
       "      <td>Draw</td>\n",
       "      <td>Away</td>\n",
       "      <td>2012-04-28</td>\n",
       "      <td>1</td>\n",
       "    </tr>\n",
       "    <tr>\n",
       "      <td>19326</td>\n",
       "      <td>19326</td>\n",
       "      <td>2011-12</td>\n",
       "      <td>2011</td>\n",
       "      <td>2012</td>\n",
       "      <td>Wolves</td>\n",
       "      <td>Everton</td>\n",
       "      <td>Draw</td>\n",
       "      <td>Home</td>\n",
       "      <td>2012-05-06</td>\n",
       "      <td>1</td>\n",
       "    </tr>\n",
       "    <tr>\n",
       "      <td>19327</td>\n",
       "      <td>19327</td>\n",
       "      <td>2011-12</td>\n",
       "      <td>2011</td>\n",
       "      <td>2012</td>\n",
       "      <td>Wolves</td>\n",
       "      <td>Wigan</td>\n",
       "      <td>Loss</td>\n",
       "      <td>Away</td>\n",
       "      <td>2012-05-13</td>\n",
       "      <td>0</td>\n",
       "    </tr>\n",
       "  </tbody>\n",
       "</table>\n",
       "<p>19328 rows × 10 columns</p>\n",
       "</div>"
      ],
      "text/plain": [
       "       index   Season  seasonStart  seasonEnd     team      opposition result  \\\n",
       "0          0  1993-94         1993       1994  Arsenal        Coventry   Loss   \n",
       "1          1  1993-94         1993       1994  Arsenal       Tottenham    Win   \n",
       "2          2  1993-94         1993       1994  Arsenal  Sheffield Weds    Win   \n",
       "3          3  1993-94         1993       1994  Arsenal           Leeds    Win   \n",
       "4          4  1993-94         1993       1994  Arsenal         Everton    Win   \n",
       "...      ...      ...          ...        ...      ...             ...    ...   \n",
       "19323  19323  2011-12         2011       2012   Wolves      Sunderland   Draw   \n",
       "19324  19324  2011-12         2011       2012   Wolves        Man City   Loss   \n",
       "19325  19325  2011-12         2011       2012   Wolves         Swansea   Draw   \n",
       "19326  19326  2011-12         2011       2012   Wolves         Everton   Draw   \n",
       "19327  19327  2011-12         2011       2012   Wolves           Wigan   Loss   \n",
       "\n",
       "      ho/Aw       date  teamPoints  \n",
       "0      Home 1993-08-14           0  \n",
       "1      Away 1993-08-16           3  \n",
       "2      Away 1993-08-21           3  \n",
       "3      Home 1993-08-24           3  \n",
       "4      Home 1993-08-28           3  \n",
       "...     ...        ...         ...  \n",
       "19323  Away 2012-04-14           1  \n",
       "19324  Home 2012-04-22           0  \n",
       "19325  Away 2012-04-28           1  \n",
       "19326  Home 2012-05-06           1  \n",
       "19327  Away 2012-05-13           0  \n",
       "\n",
       "[19328 rows x 10 columns]"
      ]
     },
     "execution_count": 14,
     "metadata": {},
     "output_type": "execute_result"
    }
   ],
   "source": [
    "LeagueGamesCombo"
   ]
  },
  {
   "cell_type": "markdown",
   "metadata": {},
   "source": [
    "The below are functions designed to establish a teams form in the premier league exclusively. This takes the form of the number of points earned in the previous 'x' games. It currently runs from 2 to 5 as the method is not the most efficient meaning that bigger ones will take longer."
   ]
  },
  {
   "cell_type": "code",
   "execution_count": 15,
   "metadata": {},
   "outputs": [],
   "source": [
    "def find_last2(x):\n",
    "    if x == 0:\n",
    "        return 0\n",
    "    elif x == 1:\n",
    "        return LeagueGamesCombo['teamPoints'][x-1]\n",
    "    elif LeagueGamesCombo['team'][x] != LeagueGamesCombo['team'][x-1]:\n",
    "        return 0\n",
    "    elif LeagueGamesCombo['team'][x-2] != LeagueGamesCombo['team'][x]:\n",
    "        return LeagueGamesCombo['teamPoints'][x-1]\n",
    "    else:\n",
    "        return LeagueGamesCombo['teamPoints'][x-1]+LeagueGamesCombo['teamPoints'][x-2]\n",
    "    \n",
    "def find_last3(x):\n",
    "    if x == 0:\n",
    "        return 0\n",
    "    elif x == 1:\n",
    "        return LeagueGamesCombo['teamPoints'][x-1]\n",
    "    elif x == 2:\n",
    "        return LeagueGamesCombo['teamPoints'][x-1] + LeagueGamesCombo['teamPoints'][x-2]\n",
    "    \n",
    "    elif LeagueGamesCombo['team'][x] != LeagueGamesCombo['team'][x-1]:\n",
    "        return 0\n",
    "    elif LeagueGamesCombo['team'][x] != LeagueGamesCombo['team'][x-2]:\n",
    "        return LeagueGamesCombo['teamPoints'][x-1]\n",
    "    elif LeagueGamesCombo['team'][x] != LeagueGamesCombo['team'][x-3]:\n",
    "        return LeagueGamesCombo['teamPoints'][x-1] + LeagueGamesCombo['teamPoints'][x-2]\n",
    "    \n",
    "    else:\n",
    "        return LeagueGamesCombo['teamPoints'][x-1] + LeagueGamesCombo['teamPoints'][x-2] + LeagueGamesCombo['teamPoints'][x-3]\n",
    "    \n",
    "def find_last4(x):\n",
    "    if x == 0:\n",
    "        return 0\n",
    "    elif x == 1:\n",
    "        return LeagueGamesCombo['teamPoints'][x-1]\n",
    "    elif x == 2:\n",
    "        return LeagueGamesCombo['teamPoints'][x-1] + LeagueGamesCombo['teamPoints'][x-2]\n",
    "    elif x == 3:\n",
    "        return LeagueGamesCombo['teamPoints'][x-1] + LeagueGamesCombo['teamPoints'][x-2] + + LeagueGamesCombo['teamPoints'][x-3]\n",
    "    \n",
    "    elif LeagueGamesCombo['team'][x] != LeagueGamesCombo['team'][x-1]:\n",
    "        return 0\n",
    "    elif LeagueGamesCombo['team'][x] != LeagueGamesCombo['team'][x-2]:\n",
    "        return LeagueGamesCombo['teamPoints'][x-1]\n",
    "    elif LeagueGamesCombo['team'][x] != LeagueGamesCombo['team'][x-3]:\n",
    "        return LeagueGamesCombo['teamPoints'][x-1] + LeagueGamesCombo['teamPoints'][x-2]\n",
    "    elif LeagueGamesCombo['team'][x] != LeagueGamesCombo['team'][x-4]:\n",
    "        return LeagueGamesCombo['teamPoints'][x-1] + LeagueGamesCombo['teamPoints'][x-2] + LeagueGamesCombo['teamPoints'][x-3]\n",
    "    \n",
    "    else:\n",
    "        return LeagueGamesCombo['teamPoints'][x-1] + LeagueGamesCombo['teamPoints'][x-2] + LeagueGamesCombo['teamPoints'][x-3] + LeagueGamesCombo['teamPoints'][x-4]\n",
    "    \n",
    "def find_last5(x):\n",
    "    if x == 0:\n",
    "        return 0\n",
    "    elif x == 1:\n",
    "        return LeagueGamesCombo['teamPoints'][x-1]\n",
    "    elif x == 2:\n",
    "        return LeagueGamesCombo['teamPoints'][x-1] + LeagueGamesCombo['teamPoints'][x-2]\n",
    "    elif x == 3:\n",
    "        return LeagueGamesCombo['teamPoints'][x-1] + LeagueGamesCombo['teamPoints'][x-2] + + LeagueGamesCombo['teamPoints'][x-3]\n",
    "    elif x == 4:\n",
    "        return LeagueGamesCombo['teamPoints'][x-1] + LeagueGamesCombo['teamPoints'][x-2] + + LeagueGamesCombo['teamPoints'][x-3] + LeagueGamesCombo['teamPoints'][x-4]\n",
    "    \n",
    "    elif LeagueGamesCombo['team'][x] != LeagueGamesCombo['team'][x-1]:\n",
    "        return 0\n",
    "    elif LeagueGamesCombo['team'][x] != LeagueGamesCombo['team'][x-2]:\n",
    "        return LeagueGamesCombo['teamPoints'][x-1]\n",
    "    elif LeagueGamesCombo['team'][x] != LeagueGamesCombo['team'][x-3]:\n",
    "        return LeagueGamesCombo['teamPoints'][x-1] + LeagueGamesCombo['teamPoints'][x-2]\n",
    "    elif LeagueGamesCombo['team'][x] != LeagueGamesCombo['team'][x-4]:\n",
    "        return LeagueGamesCombo['teamPoints'][x-1] + LeagueGamesCombo['teamPoints'][x-2] + LeagueGamesCombo['teamPoints'][x-3]\n",
    "    elif LeagueGamesCombo['team'][x] != LeagueGamesCombo['team'][x-5]:\n",
    "        return LeagueGamesCombo['teamPoints'][x-1] + LeagueGamesCombo['teamPoints'][x-2] + LeagueGamesCombo['teamPoints'][x-3] + LeagueGamesCombo['teamPoints'][x-4]\n",
    "    \n",
    "    else:\n",
    "        return LeagueGamesCombo['teamPoints'][x-1] + LeagueGamesCombo['teamPoints'][x-2] + LeagueGamesCombo['teamPoints'][x-3] + LeagueGamesCombo['teamPoints'][x-4] + LeagueGamesCombo['teamPoints'][x-5]"
   ]
  },
  {
   "cell_type": "markdown",
   "metadata": {},
   "source": [
    "The above method seemed really inefficent and on my laptop couldn't be run for instances longer than 8 in sensible time.\n",
    "So I explored some new methods and designed a method which will work for n rows. This had significant design help from Tom Williamson, with the idea originally being his for a set n."
   ]
  },
  {
   "cell_type": "code",
   "execution_count": 19,
   "metadata": {},
   "outputs": [],
   "source": [
    "def find_sum_last_n(x,n):\n",
    "    \n",
    "    counter = 0\n",
    "    \n",
    "    if x == 0:\n",
    "        return 0\n",
    "    \n",
    "    elif x < n:\n",
    "        for i in range(0,x,1):\n",
    "            if LeagueGamesCombo['team'][x] != LeagueGamesCombo['team'][i]:\n",
    "                break\n",
    "            counter +=LeagueGamesCombo['teamPoints'][i]\n",
    "    else:\n",
    "        for i in range(x-1,x-n-1,-1):\n",
    "            if LeagueGamesCombo['team'][x] != LeagueGamesCombo['team'][i]:\n",
    "                break\n",
    "            counter +=LeagueGamesCombo['teamPoints'][i]\n",
    "    \n",
    "    return counter"
   ]
  },
  {
   "cell_type": "code",
   "execution_count": 25,
   "metadata": {},
   "outputs": [],
   "source": [
    "LeagueGamesCombo['team_form_10games'] = LeagueGamesCombo['index'].apply(lambda x : find_sum_last_n(x,10))"
   ]
  },
  {
   "cell_type": "markdown",
   "metadata": {},
   "source": [
    "Finally a 3rd method was tried using groupby the pull teams together and then the apply rolling sum function. This was then shifted one row as rolling calculates a inclusive rolling amount."
   ]
  },
  {
   "cell_type": "code",
   "execution_count": 24,
   "metadata": {},
   "outputs": [],
   "source": [
    "r10=LeagueGamesCombo.groupby('team')['teamPoints'].apply(lambda x: x.rolling(10).sum().shift())\n",
    "r9=LeagueGamesCombo.groupby('team')['teamPoints'].apply(lambda x: x.rolling(9).sum().shift())\n",
    "r8=LeagueGamesCombo.groupby('team')['teamPoints'].apply(lambda x: x.rolling(8).sum().shift())\n",
    "r7=LeagueGamesCombo.groupby('team')['teamPoints'].apply(lambda x: x.rolling(7).sum().shift())\n",
    "r6=LeagueGamesCombo.groupby('team')['teamPoints'].apply(lambda x: x.rolling(6).sum().shift())\n",
    "r5=LeagueGamesCombo.groupby('team')['teamPoints'].apply(lambda x: x.rolling(5).sum().shift())\n",
    "r4=LeagueGamesCombo.groupby('team')['teamPoints'].apply(lambda x: x.rolling(4).sum().shift())\n",
    "r3=LeagueGamesCombo.groupby('team')['teamPoints'].apply(lambda x: x.rolling(3).sum().shift())\n",
    "r2=LeagueGamesCombo.groupby('team')['teamPoints'].apply(lambda x: x.rolling(2).sum().shift())\n",
    "r1=LeagueGamesCombo.groupby('team')['teamPoints'].apply(lambda x: x.shift())\n",
    "LeagueGamesCombo['team_form_10games_RM'] = r10.fillna(r9.fillna(r8.fillna(r7.fillna(r6.fillna(r5.fillna(r4.fillna(r3.fillna(r2.fillna(r1).fillna(0)))))))))"
   ]
  },
  {
   "cell_type": "markdown",
   "metadata": {},
   "source": [
    "Now it is also worth finding out the form of all the Opposition teams leading into each game as well to see if that has an impact on the result, it could be that a useful metric is instead to look at the difference in form between the two teams to see if this is a useful predictor."
   ]
  },
  {
   "cell_type": "markdown",
   "metadata": {},
   "source": [
    "All that needs to be done to find the opposition form is to find to corresponding reverse fixture where the \"team\" form will have ben found already"
   ]
  },
  {
   "cell_type": "code",
   "execution_count": null,
   "metadata": {},
   "outputs": [],
   "source": [
    "def find_opp_form(x,y):\n",
    "    finder = 'string'\n",
    "    if y==2: finder = 'team_form_2games'\n",
    "    elif y==3: finder = 'team_form_3games'\n",
    "    elif y==4: finder = 'team_form_4games'\n",
    "    elif y==5: finder = 'team_form_5games'\n",
    "    else: raise Exception('y must be an integer between 2 and 5')\n",
    "    \n",
    "    team = LeagueGamesCombo['opposition'][x]\n",
    "    date = LeagueGamesCombo['date'][x]\n",
    "    result = LeagueGamesCombo[(LeagueGamesCombo['team'] == team) & (LeagueGamesCombo['date'] == date)][finder].iat[0]\n",
    "    return result"
   ]
  },
  {
   "cell_type": "code",
   "execution_count": null,
   "metadata": {},
   "outputs": [],
   "source": [
    "LeagueGamesCombo['opp_form_2games'] = LeagueGamesCombo['index'].apply(lambda x,y=2 : find_opp_form(x,y))\n",
    "LeagueGamesCombo['opp_form_3games'] = LeagueGamesCombo['index'].apply(lambda x,y=3 : find_opp_form(x,y))\n",
    "LeagueGamesCombo['opp_form_4games'] = LeagueGamesCombo['index'].apply(lambda x,y=4 : find_opp_form(x,y))\n",
    "LeagueGamesCombo['opp_form_5games'] = LeagueGamesCombo['index'].apply(lambda x,y=5 : find_opp_form(x,y))"
   ]
  },
  {
   "cell_type": "markdown",
   "metadata": {},
   "source": [
    "Now 4 new columns will be added which represent the difference in form between the teams and a 5th which will be home or away for 'team' in a binary form"
   ]
  },
  {
   "cell_type": "code",
   "execution_count": null,
   "metadata": {},
   "outputs": [],
   "source": [
    "LeagueGamesCombo['diff_2_game_form'] = LeagueGamesCombo['team_form_2games'] - LeagueGamesCombo['opp_form_2games']\n",
    "LeagueGamesCombo['diff_3_game_form'] = LeagueGamesCombo['team_form_3games'] - LeagueGamesCombo['opp_form_3games']\n",
    "LeagueGamesCombo['diff_4_game_form'] = LeagueGamesCombo['team_form_4games'] - LeagueGamesCombo['opp_form_4games']\n",
    "LeagueGamesCombo['diff_5_game_form'] = LeagueGamesCombo['team_form_5games'] - LeagueGamesCombo['opp_form_5games']\n",
    "LeagueGamesCombo['ho/Aw_binary'] = np.where(LeagueGamesCombo['ho/Aw']=='Home',1,0)"
   ]
  },
  {
   "cell_type": "markdown",
   "metadata": {},
   "source": [
    "# Premier League Tables"
   ]
  },
  {
   "cell_type": "markdown",
   "metadata": {},
   "source": [
    "Now that we have our League games in a useable format it's time to also add in the league position that each team finished in the previous season. In addition to this each clubs form will need to be established."
   ]
  },
  {
   "cell_type": "code",
   "execution_count": null,
   "metadata": {},
   "outputs": [],
   "source": [
    "LeagueTables = pd.read_csv(\"tables_1968_2019.csv\")\n",
    "LeagueTables.head()"
   ]
  },
  {
   "cell_type": "markdown",
   "metadata": {},
   "source": [
    "Now need to remove the non useful features, the season and teams and position will be used, but not the other features on this first run through, these columns should be removed for ease of use."
   ]
  },
  {
   "cell_type": "code",
   "execution_count": null,
   "metadata": {},
   "outputs": [],
   "source": [
    "LeagueTables = LeagueTables.drop(['name','p','w','d','l','f','a','gd','points'],axis=1)"
   ]
  },
  {
   "cell_type": "markdown",
   "metadata": {},
   "source": [
    "The rows which relate to seasons for which no data is present for game results should also be dropped, this means all years before the season 92/93.\n",
    "\n",
    "So create a new column with the year the season started and ended"
   ]
  },
  {
   "cell_type": "code",
   "execution_count": null,
   "metadata": {},
   "outputs": [],
   "source": [
    "LeagueTables['seasonStart'] = LeagueTables['season'].apply(lambda title: title.split('/')[0])\n",
    "LeagueTables['seasonEnd'] = LeagueTables['season'].apply(lambda title: title.split('/')[1])\n",
    "LeagueTables.head()"
   ]
  },
  {
   "cell_type": "markdown",
   "metadata": {},
   "source": [
    "Finally for ease of use with the data any data from before the 92/93 season can be discarded"
   ]
  },
  {
   "cell_type": "code",
   "execution_count": null,
   "metadata": {},
   "outputs": [],
   "source": [
    "LeagueTables['seasonEnd'] = LeagueTables['seasonEnd'].astype(int)\n",
    "LeagueTables = LeagueTables[LeagueTables['seasonEnd'] >= 1993]\n",
    "LeagueTables.info()"
   ]
  },
  {
   "cell_type": "code",
   "execution_count": null,
   "metadata": {},
   "outputs": [],
   "source": [
    "LeagueTables"
   ]
  },
  {
   "cell_type": "markdown",
   "metadata": {},
   "source": [
    "# Combine Results and league Position"
   ]
  },
  {
   "cell_type": "markdown",
   "metadata": {},
   "source": [
    "It is now time to combine the game results with each teams league position they finished the previous year in.\n",
    "\n",
    "First it is important to consider is all teams have the same names in each dataset as they have come from different sources. The number of teams should stay the same. \n",
    "\n",
    "Below it is checked whether each source has the same number of teams and what their names are."
   ]
  },
  {
   "cell_type": "code",
   "execution_count": null,
   "metadata": {},
   "outputs": [],
   "source": [
    "LTT = pd.Series(LeagueTables['team'].sort_values().unique())\n",
    "LGT = pd.Series(LeagueGamesCombo['team'].sort_values().unique())\n",
    "Check1 = pd.concat((LTT,LGT),axis=1)\n",
    "Check1"
   ]
  },
  {
   "cell_type": "markdown",
   "metadata": {},
   "source": [
    "From the above table we can see that the offending teams that are causing the differences are 'Leeds United','West Ham united' which appears on the league table side twice. To filter it out Leed united will be renamed Leeds in the LeagueTables dataframe.\n",
    "\n",
    "On the League games side we can see that Middlesboro also appears twice so this should also be filtered out in favour of Middlesborough."
   ]
  },
  {
   "cell_type": "code",
   "execution_count": null,
   "metadata": {},
   "outputs": [],
   "source": [
    "LeagueTables['team'] = np.where(LeagueTables['team'] == 'Leeds United', 'Leeds', LeagueTables['team'])\n",
    "LeagueTables['team'] = np.where(LeagueTables['team'] == 'West Ham United', 'West Ham', LeagueTables['team'])\n",
    "LeagueGamesCombo['team'] = np.where(LeagueGamesCombo['team'] == 'Middlesboro', 'Middlesbrough', LeagueGamesCombo['team'])\n",
    "LeagueGamesCombo['opposition'] = np.where(LeagueGamesCombo['opposition'] == 'Middlesboro', 'Middlesbrough', LeagueGamesCombo['opposition'])\n",
    "LeagueGamesCombo.info()"
   ]
  },
  {
   "cell_type": "markdown",
   "metadata": {},
   "source": [
    "Now check that the team names are almost consistent by reusing the same formula as before"
   ]
  },
  {
   "cell_type": "code",
   "execution_count": null,
   "metadata": {},
   "outputs": [],
   "source": [
    "LTT = pd.Series(LeagueTables['team'].sort_values().unique())\n",
    "LGTt = pd.Series(LeagueGamesCombo['team'].sort_values().unique())\n",
    "LGTo = pd.Series(LeagueGamesCombo['opposition'].sort_values().unique())\n",
    "Check2 = pd.concat((LTT,LGTt,LGTo),axis=1,)\n",
    "Check2"
   ]
  },
  {
   "cell_type": "markdown",
   "metadata": {},
   "source": [
    "Now change the League Table team names so that they match the LeagueGamesCombo Array, this will make it easier later when looking up league position."
   ]
  },
  {
   "cell_type": "code",
   "execution_count": null,
   "metadata": {},
   "outputs": [],
   "source": [
    "check_dict = Check2.set_index(0)[1].to_dict()\n",
    "LeagueTables = LeagueTables.replace(check_dict)"
   ]
  },
  {
   "cell_type": "markdown",
   "metadata": {},
   "source": [
    "No do a final check to ensure that all team names are aligned"
   ]
  },
  {
   "cell_type": "code",
   "execution_count": null,
   "metadata": {},
   "outputs": [],
   "source": [
    "LTT = pd.Series(LeagueTables['team'].sort_values().unique())\n",
    "LGTt = pd.Series(LeagueGamesCombo['team'].sort_values().unique())\n",
    "LGTo = pd.Series(LeagueGamesCombo['team'].sort_values().unique())\n",
    "Check3 = pd.concat((LTT,LGTt,LGTo),axis=1)\n",
    "Check3['check'] = (Check3[0] == Check3[1]) & (Check3[0] == Check3[2])\n",
    "Check3"
   ]
  },
  {
   "cell_type": "markdown",
   "metadata": {},
   "source": [
    "Now it's important to actually use the league table in the previous season to guide the current seasons results.\n",
    "So for the results in the 93/94 season we need the table from the 92/93.\n",
    "So For the tables we will use the 'SeasonEnd' column and for the results we should use the Season 'SeasonStart' column. \n",
    "\n",
    "To do this a pivot table will be made."
   ]
  },
  {
   "cell_type": "code",
   "execution_count": null,
   "metadata": {},
   "outputs": [],
   "source": [
    "LeagueTables.head(3)"
   ]
  },
  {
   "cell_type": "code",
   "execution_count": null,
   "metadata": {},
   "outputs": [],
   "source": [
    "UnstackedLeagueTables = LeagueTables.pivot(index='team',columns='seasonEnd',values='pos').unstack().to_frame()\n",
    "UnstackedLeagueTables.info()"
   ]
  },
  {
   "cell_type": "code",
   "execution_count": null,
   "metadata": {},
   "outputs": [],
   "source": [
    "LeagueGamesCombo.info()"
   ]
  },
  {
   "cell_type": "code",
   "execution_count": null,
   "metadata": {},
   "outputs": [],
   "source": [
    "LeagueGamesCombo1 = LeagueGamesCombo.merge(UnstackedLeagueTables, left_on=[\"seasonStart\", \"team\"],\n",
    "                                          right_on=['seasonEnd','team'],how='left')\n"
   ]
  },
  {
   "cell_type": "code",
   "execution_count": null,
   "metadata": {},
   "outputs": [],
   "source": [
    "LeagueGamesCombo1.info()"
   ]
  },
  {
   "cell_type": "code",
   "execution_count": null,
   "metadata": {},
   "outputs": [],
   "source": [
    "LeagueGamesCombo2 = LeagueGamesCombo1.merge(UnstackedLeagueTables, left_on=[\"seasonStart\", \"opposition\"],\n",
    "                                          right_on=['seasonEnd','team'],how='left')"
   ]
  },
  {
   "cell_type": "code",
   "execution_count": null,
   "metadata": {},
   "outputs": [],
   "source": [
    "LeagueGamesCombo2.info()"
   ]
  },
  {
   "cell_type": "code",
   "execution_count": null,
   "metadata": {},
   "outputs": [],
   "source": [
    "LeagueGamesCombo2 = LeagueGamesCombo2.rename(columns={\"0_x\": \"py_T_Leag_Pos\", \"0_y\": \"py_O_Leag_Pos\"})\n",
    "LeagueGamesCombo2.info()"
   ]
  },
  {
   "cell_type": "code",
   "execution_count": null,
   "metadata": {},
   "outputs": [],
   "source": [
    "LeagueGamesCombo2 = LeagueGamesCombo2.fillna(21)\n",
    "LeagueGamesCombo2.info()"
   ]
  },
  {
   "cell_type": "markdown",
   "metadata": {},
   "source": [
    "A more useful measure than league position may be the difference in league position of the two sides so this metric will also be included."
   ]
  },
  {
   "cell_type": "code",
   "execution_count": null,
   "metadata": {},
   "outputs": [],
   "source": [
    "LeagueGamesCombo2['leagueDifference'] = LeagueGamesCombo2['py_T_Leag_Pos'] - LeagueGamesCombo2['py_O_Leag_Pos']"
   ]
  },
  {
   "cell_type": "code",
   "execution_count": null,
   "metadata": {},
   "outputs": [],
   "source": [
    "LeagueGamesCombo2.head()"
   ]
  },
  {
   "cell_type": "markdown",
   "metadata": {},
   "source": [
    "Another useful metric would be to see the month the game takes place in, the reasoning is that as the season goes on the league table predictor will become stronger and stronger"
   ]
  },
  {
   "cell_type": "code",
   "execution_count": null,
   "metadata": {},
   "outputs": [],
   "source": [
    "def monthConverter(month):\n",
    "    if month > 7: \n",
    "        newMonth = month - 7\n",
    "    elif month < 8: \n",
    "        newMonth = month + 5\n",
    "    return newMonth"
   ]
  },
  {
   "cell_type": "code",
   "execution_count": null,
   "metadata": {},
   "outputs": [],
   "source": [
    "LeagueGamesCombo2['monthNumber'] = LeagueGamesCombo2['date'].apply(lambda x: x.month)\n",
    "LeagueGamesCombo2['monthNumber'] = LeagueGamesCombo2['monthNumber'].apply(lambda x: monthConverter(x))"
   ]
  },
  {
   "cell_type": "code",
   "execution_count": null,
   "metadata": {},
   "outputs": [],
   "source": [
    "LeagueGamesCombo2.to_csv(r\"C:\\Users\\Elliott\\Documents\\Python\\PremierLeaguePredictor\\Git\\combined_data.csv\")\n",
    "\n",
    "#finally the dataframe is exported for use within another workbook where the data analysis and logistic/linear regaression can take place"
   ]
  },
  {
   "cell_type": "code",
   "execution_count": null,
   "metadata": {},
   "outputs": [],
   "source": []
  }
 ],
 "metadata": {
  "kernelspec": {
   "display_name": "Python 3",
   "language": "python",
   "name": "python3"
  },
  "language_info": {
   "codemirror_mode": {
    "name": "ipython",
    "version": 3
   },
   "file_extension": ".py",
   "mimetype": "text/x-python",
   "name": "python",
   "nbconvert_exporter": "python",
   "pygments_lexer": "ipython3",
   "version": "3.7.1"
  }
 },
 "nbformat": 4,
 "nbformat_minor": 2
}
